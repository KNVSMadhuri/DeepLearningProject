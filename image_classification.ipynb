{
 "cells": [
  {
   "cell_type": "code",
   "execution_count": 1,
   "metadata": {
    "collapsed": true
   },
   "outputs": [],
   "source": [
    "from __future__ import absolute_import\n",
    "from __future__ import division\n",
    "from __future__ import print_function\n",
    "\n",
    "import time\n",
    "import math\n",
    "import numpy\n",
    "import numpy as np\n",
    "import random\n",
    "from PIL import Image\n",
    "from six.moves import xrange  # pylint: disable=redefined-builtin\n",
    "import tensorflow as tf"
   ]
  },
  {
   "cell_type": "code",
   "execution_count": 2,
   "metadata": {
    "collapsed": true
   },
   "outputs": [],
   "source": [
    "flags = tf.app.flags\n",
    "FLAGS = flags.FLAGS\n",
    "flags.DEFINE_float('learning_rate', 0.01, 'Initial learning rate.')\n",
    "flags.DEFINE_integer('max_steps', 2000, 'Number of steps to run trainer.')\n",
    "flags.DEFINE_integer('hidden1', 128, 'Number of units in hidden layer 1.')\n",
    "flags.DEFINE_integer('hidden2', 32, 'Number of units in hidden layer 2.')\n",
    "flags.DEFINE_integer('batch_size', 4, 'Batch size.  '\n",
    "                     'Must divide evenly into the dataset sizes.')\n",
    "flags.DEFINE_string('train_dir', 'data', 'Directory to put the training data.')\n",
    "flags.DEFINE_boolean('fake_data', False, 'If true, uses fake data '\n",
    "                     'for unit testing.')\n"
   ]
  },
  {
   "cell_type": "code",
   "execution_count": 3,
   "metadata": {
    "collapsed": true
   },
   "outputs": [],
   "source": [
    "NUM_CLASSES = 2 \n",
    "IMAGE_SIZE = 28 \n",
    "CHANNELS = 3\n",
    "IMAGE_PIXELS = IMAGE_SIZE * IMAGE_SIZE * CHANNELS\n"
   ]
  },
  {
   "cell_type": "code",
   "execution_count": 4,
   "metadata": {
    "collapsed": true
   },
   "outputs": [],
   "source": [
    "# Hidden Layer1\n",
    "def inference(images, hidden1_units, hidden2_units):\n",
    "  \n",
    "    with tf.name_scope('hidden1'):\n",
    "        weights = tf.Variable(tf.truncated_normal([IMAGE_PIXELS, hidden1_units],\n",
    "                                                  stddev=1.0 / math.sqrt(float(IMAGE_PIXELS))),\n",
    "                              name='weights')\n",
    "        biases = tf.Variable(tf.zeros([hidden1_units]),name='biases')\n",
    "        hidden1 = tf.nn.relu(tf.matmul(images, weights) + biases)\n",
    "        \n",
    "    with tf.name_scope('hidden2'):\n",
    "        weights = tf.Variable(\n",
    "            tf.truncated_normal([hidden1_units, hidden2_units],\n",
    "                                stddev=1.0 / math.sqrt(float(hidden1_units))),\n",
    "            name='weights')\n",
    "        biases = tf.Variable(tf.zeros([hidden2_units]),\n",
    "                             name='biases')\n",
    "        hidden2 = tf.nn.relu(tf.matmul(hidden1, weights) + biases)\n",
    "    with tf.name_scope('softmax_linear'):\n",
    "        weights = tf.Variable(tf.truncated_normal([hidden2_units, NUM_CLASSES],\n",
    "                                                  stddev=1.0 / math.sqrt(float(hidden2_units))),\n",
    "                              name='weights')\n",
    "        biases = tf.Variable(tf.zeros([NUM_CLASSES]),name='biases')\n",
    "        logits = tf.matmul(hidden2, weights) + biases\n",
    "    return logits\n",
    "\n",
    "    "
   ]
  },
  {
   "cell_type": "code",
   "execution_count": 5,
   "metadata": {
    "collapsed": true
   },
   "outputs": [],
   "source": [
    "\n",
    "def cal_loss(logits, labels):\n",
    "    labels = tf.to_int64(labels)\n",
    "    cross_entropy = tf.nn.sparse_softmax_cross_entropy_with_logits(logits=logits,labels=labels, name='xentropy')\n",
    "    loss = tf.reduce_mean(cross_entropy, name='xentropy_mean')\n",
    "    return loss\n"
   ]
  },
  {
   "cell_type": "code",
   "execution_count": 6,
   "metadata": {
    "collapsed": true
   },
   "outputs": [],
   "source": [
    "def training(loss, learning_rate):\n",
    "    optimizer = tf.train.GradientDescentOptimizer(learning_rate)\n",
    "    global_step = tf.Variable(0, name='global_step', trainable=False)\n",
    "    train_op = optimizer.minimize(loss, global_step=global_step)\n",
    "    return train_op"
   ]
  },
  {
   "cell_type": "code",
   "execution_count": 7,
   "metadata": {
    "collapsed": true
   },
   "outputs": [],
   "source": [
    "def evaluation(logits, labels):\n",
    "    correct = tf.nn.in_top_k(logits, labels, 1)\n",
    "    return tf.reduce_sum(tf.cast(correct, tf.int32))"
   ]
  },
  {
   "cell_type": "code",
   "execution_count": 8,
   "metadata": {
    "collapsed": true
   },
   "outputs": [],
   "source": [
    "def placeholder_inputs(batch_size):\n",
    "    images_placeholder = tf.placeholder(tf.float32, shape=(batch_size,IMAGE_PIXELS))\n",
    "    labels_placeholder = tf.placeholder(tf.int32, shape=(batch_size))\n",
    "    return images_placeholder, labels_placeholder"
   ]
  },
  {
   "cell_type": "code",
   "execution_count": 9,
   "metadata": {
    "collapsed": true
   },
   "outputs": [],
   "source": [
    "def fill_feed_dict(images_feed,labels_feed, images_pl, labels_pl):\n",
    "    feed_dict = {images_pl: images_feed,labels_pl: labels_feed,}\n",
    "    return feed_dict"
   ]
  },
  {
   "cell_type": "code",
   "execution_count": 10,
   "metadata": {
    "collapsed": true
   },
   "outputs": [],
   "source": [
    "def do_eval(sess,eval_correct,images_placeholder,labels_placeholder,data_set):\n",
    "  # And run one epoch of eval.\n",
    "    true_count = 0  # Counts the number of correct predictions.\n",
    "    steps_per_epoch = 4 // FLAGS.batch_size\n",
    "    num_examples = steps_per_epoch * FLAGS.batch_size\n",
    "    for step in xrange(steps_per_epoch):\n",
    "        feed_dict = fill_feed_dict(train_images,train_labels,images_placeholder,labels_placeholder)\n",
    "        true_count += sess.run(eval_correct, feed_dict=feed_dict)\n",
    "    precision = true_count / num_examples\n",
    "    print('  Num examples: %d  Num correct: %d  Precision @ 1: %0.04f' %(num_examples, true_count, precision))"
   ]
  },
  {
   "cell_type": "code",
   "execution_count": 11,
   "metadata": {},
   "outputs": [
    {
     "name": "stdout",
     "output_type": "stream",
     "text": [
      "<PIL.Image.Image image mode=RGB size=28x28 at 0x7FCBDE9FB780>\n",
      "<PIL.Image.Image image mode=RGB size=28x28 at 0x7FCBDE9FB780>\n",
      "<PIL.Image.Image image mode=RGB size=28x28 at 0x7FCBDE9FB780>\n",
      "<PIL.Image.Image image mode=RGB size=28x28 at 0x7FCBDE9FB780>\n"
     ]
    }
   ],
   "source": [
    "# Get the sets of images and labels for training, validation, and\n",
    "train_images = []\n",
    "for filename in ['/home/affine/DeepLearningProject/Beach/ImageNet5.jpg','/home/affine/DeepLearningProject/Beach/ImageNet2.jpg','/home/affine/DeepLearningProject/Beach/ImageNet4.jpg', '/home/affine/DeepLearningProject/Beach/ImageNet3.jpg']:\n",
    "    image = Image.open(filename)\n",
    "    image = image.resize((IMAGE_SIZE,IMAGE_SIZE))\n",
    "    print(image)\n",
    "    train_images.append(np.array(image))\n",
    "    \n",
    "train_images = np.array(train_images)\n",
    "train_images = train_images.reshape(4,IMAGE_PIXELS)\n",
    "\n",
    "label = [0,1,1,1]\n",
    "train_labels = np.array(label)\n"
   ]
  },
  {
   "cell_type": "code",
   "execution_count": 12,
   "metadata": {
    "collapsed": true
   },
   "outputs": [],
   "source": [
    "def run_training():\n",
    "  # Tell TensorFlow that the model will be built into the default Graph.\n",
    "    with tf.Graph().as_default():\n",
    "    # Generate placeholders for the images and labels.\n",
    "        images_placeholder, labels_placeholder = placeholder_inputs(4)\n",
    "\n",
    "    # Build a Graph that computes predictions from the inference model.\n",
    "        logits = inference(images_placeholder,FLAGS.hidden1,FLAGS.hidden2)\n",
    "    # Add to the Graph the Ops for loss calculation.\n",
    "        loss = cal_loss(logits, labels_placeholder)\n",
    "\n",
    "    # Add to the Graph the Ops that calculate and apply gradients.\n",
    "        train_op = training(loss, FLAGS.learning_rate)\n",
    "\n",
    "    # Add the Op to compare the logits to the labels during evaluation.\n",
    "        eval_correct = evaluation(logits, labels_placeholder)\n",
    "\n",
    "    # Create a saver for writing training checkpoints.\n",
    "        saver = tf.train.Saver()\n",
    "\n",
    "    # Create a session for running Ops on the Graph.\n",
    "        sess = tf.Session()\n",
    "\n",
    "    # Run the Op to initialize the variables.\n",
    "        init = tf.initialize_all_variables()\n",
    "        sess.run(init)\n",
    "    for step in xrange(FLAGS.max_steps):\n",
    "        start_time = time.time()\n",
    "        feed_dict = fill_feed_dict(train_images,train_labels,images_placeholder,labels_placeholder)\n",
    "        _, loss_value = sess.run([train_op, loss],feed_dict=feed_dict)\n",
    "        duration = time.time() - start_time\n",
    "        if step % 100 == 0:\n",
    "        # Print status to stdout.\n",
    "            print('Step %d: loss = %.2f (%.3f sec)' % (step, loss_value, duration))\n",
    "        if (step + 1) % 1000 == 0 or (step + 1) == FLAGS.max_steps:\n",
    "            saver.save(sess, FLAGS.train_dir, global_step=step)\n",
    "            print('Training Data Eval:')\n",
    "            do_eval(sess,eval_correct,images_placeholder,labels_placeholder,train_images)\n"
   ]
  },
  {
   "cell_type": "code",
   "execution_count": 13,
   "metadata": {},
   "outputs": [
    {
     "name": "stdout",
     "output_type": "stream",
     "text": [
      "WARNING:tensorflow:From <ipython-input-12-0dc881541d9b>:25: initialize_all_variables (from tensorflow.python.ops.variables) is deprecated and will be removed after 2017-03-02.\n",
      "Instructions for updating:\n",
      "Use `tf.global_variables_initializer` instead.\n",
      "Step 0: loss = 0.02 (0.010 sec)\n",
      "Step 100: loss = 0.62 (0.003 sec)\n",
      "Step 200: loss = 0.58 (0.004 sec)\n",
      "Step 300: loss = 0.57 (0.002 sec)\n",
      "Step 400: loss = 0.57 (0.002 sec)\n",
      "Step 500: loss = 0.56 (0.003 sec)\n",
      "Step 600: loss = 0.56 (0.003 sec)\n",
      "Step 700: loss = 0.56 (0.002 sec)\n",
      "Step 800: loss = 0.56 (0.002 sec)\n",
      "Step 900: loss = 0.56 (0.003 sec)\n",
      "Training Data Eval:\n",
      "  Num examples: 4  Num correct: 3  Precision @ 1: 0.7500\n",
      "Step 1000: loss = 0.56 (0.002 sec)\n",
      "Step 1100: loss = 0.56 (0.003 sec)\n",
      "Step 1200: loss = 0.56 (0.003 sec)\n",
      "Step 1300: loss = 0.56 (0.003 sec)\n",
      "Step 1400: loss = 0.56 (0.003 sec)\n",
      "Step 1500: loss = 0.56 (0.002 sec)\n",
      "Step 1600: loss = 0.56 (0.003 sec)\n",
      "Step 1700: loss = 0.56 (0.003 sec)\n",
      "Step 1800: loss = 0.56 (0.003 sec)\n",
      "Step 1900: loss = 0.56 (0.003 sec)\n",
      "Training Data Eval:\n",
      "  Num examples: 4  Num correct: 3  Precision @ 1: 0.7500\n"
     ]
    },
    {
     "ename": "SystemExit",
     "evalue": "",
     "output_type": "error",
     "traceback": [
      "An exception has occurred, use %tb to see the full traceback.\n",
      "\u001b[0;31mSystemExit\u001b[0m\n"
     ]
    },
    {
     "name": "stderr",
     "output_type": "stream",
     "text": [
      "/home/affine/.conda/envs/tensorflow/lib/python3.6/site-packages/IPython/core/interactiveshell.py:2855: UserWarning: To exit: use 'exit', 'quit', or Ctrl-D.\n",
      "  warn(\"To exit: use 'exit', 'quit', or Ctrl-D.\", stacklevel=1)\n"
     ]
    }
   ],
   "source": [
    "def main(_):\n",
    "    run_training()\n",
    "if __name__ == '__main__':\n",
    "    tf.app.run()"
   ]
  },
  {
   "cell_type": "code",
   "execution_count": 20,
   "metadata": {},
   "outputs": [
    {
     "name": "stdout",
     "output_type": "stream",
     "text": [
      "['a', 'ab']\n"
     ]
    }
   ],
   "source": [
    "columns = ['a','ab','date1','date2']\n",
    "for i in columns:\n",
    "    match = re.match(\"date(.+)\", i)\n",
    "    print(match)\n"
   ]
  },
  {
   "cell_type": "code",
   "execution_count": 29,
   "metadata": {},
   "outputs": [
    {
     "name": "stdout",
     "output_type": "stream",
     "text": [
      "['a', 'ab']\n"
     ]
    }
   ],
   "source": []
  },
  {
   "cell_type": "code",
   "execution_count": null,
   "metadata": {
    "collapsed": true
   },
   "outputs": [],
   "source": []
  }
 ],
 "metadata": {
  "kernelspec": {
   "display_name": "Python 3",
   "language": "python",
   "name": "python3"
  },
  "language_info": {
   "codemirror_mode": {
    "name": "ipython",
    "version": 3
   },
   "file_extension": ".py",
   "mimetype": "text/x-python",
   "name": "python",
   "nbconvert_exporter": "python",
   "pygments_lexer": "ipython3",
   "version": "3.6.1"
  }
 },
 "nbformat": 4,
 "nbformat_minor": 2
}
