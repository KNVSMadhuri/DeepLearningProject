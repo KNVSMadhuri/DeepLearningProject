{
 "cells": [
  {
   "cell_type": "code",
   "execution_count": 34,
   "metadata": {
    "collapsed": false
   },
   "outputs": [],
   "source": [
    "from urllib.request import urlopen,urlretrieve\n",
    "import requests\n",
    "from bs4 import BeautifulSoup\n",
    "import os\n",
    "\n",
    "\n",
    "\n",
    "\n"
   ]
  },
  {
   "cell_type": "code",
   "execution_count": 53,
   "metadata": {
    "collapsed": false,
    "scrolled": false
   },
   "outputs": [],
   "source": [
    "productList=['AA79801','AB03622','AB87303','AB87303','AB87346','AB87352','AB87378','AD14903','AD14914','AD14915',\n",
    "             'AD42702','AD44603','AD44603','AD44605','AD44606','AD46305','AD47603','AD47604','AD51303','AD51305',\n",
    "             'AD51305','AD51305','AD51305','AD53801','AD53802','AD53901','AD85804','AD88015','AD93204','AD93204',\n",
    "             'AD93205','AD93205','AD93503','AD93710','AD94004','AD94009','AD95007','AD98607','AD99803','AD99803',\n",
    "             'AD99805','AD99805','AD99808','AE10201','AE10201','AE10201','AE10218','AE10218','AE10244','AE12301',\n",
    "             'AB03623','AB03636','AB87306','AB87311','AD14904','AD14917','AD14918','AD44604','AD44604','AD46303',\n",
    "             'AD46303','AD46306','AD46306','AD49603','AD49603','AD49605','AD49606','AD51306','AD51306','AD60602',\n",
    "             'AD88016','AD93204','AD93404','AD93404','AD93404','AD93406','AD93501','AD93802','AD93805','AD93807',\n",
    "             'AD93904','AD94603','AD94603','AD95006','AD97403','AE15832','AE76002','AE93818','AE93818','AE93850',\n",
    "             'AD99406','AD99607','AD99804','AD99805','AE01909','AE01910','AE10202','AF09104','AF09104','AF09106']\n",
    "\n",
    "for pid in productList:\n",
    "    imageurls=[]\n",
    "    getUrl = urlopen(\"http://www.jdwilliams.co.uk/shop/1/_/N-1ytvfx8/Ntt-\"+pid+\"/products/show.action?hnid=10966344&type=cmr\").geturl()\n",
    "    r = requests.get(getUrl)\n",
    "    data = r.text\n",
    "    soup = BeautifulSoup(data, \"lxml\")\n",
    "    for link in soup.find_all('img'):\n",
    "        image = link.get(\"src\")\n",
    "        if image is None or image=='//googleads.g.doubleclick.net/pagead/viewthroughconversion/1071043900/?value=0&guid=ON&script=0':\n",
    "            continue\n",
    "        \n",
    "        imageurls.append(image)\n",
    "    images = imageurls[:2]\n",
    "        \n",
    "    for pic in images:\n",
    "        filename = os.path.split(pic)[1]\n",
    "        urlretrieve(pic,\"/home/affine/DeepLearningProject/JDWilliams/\"+filename)\n",
    "        \n",
    "        \n",
    "       \n",
    "        \n",
    "        \n",
    "        \n",
    "        \n",
    "            \n",
    "           \n",
    "    \n",
    "    "
   ]
  },
  {
   "cell_type": "code",
   "execution_count": 100,
   "metadata": {
    "collapsed": false
   },
   "outputs": [
    {
     "name": "stdout",
     "output_type": "stream",
     "text": [
      "helloWorld\n",
      "hai\n",
      "Excited\n"
     ]
    }
   ],
   "source": [
    "print(\"helloWorld\")\n",
    "print(\"hai\")\n",
    "print(\"Excited\")"
   ]
  },
  {
   "cell_type": "code",
   "execution_count": 8,
   "metadata": {
    "collapsed": false
   },
   "outputs": [
    {
     "data": {
      "text/plain": [
       "'http://www.jdwilliams.co.uk/shop/on-the-go-beauty-kit/aa798/product/details/show.action?pdBoUid=5209'"
      ]
     },
     "execution_count": 8,
     "metadata": {},
     "output_type": "execute_result"
    }
   ],
   "source": [
    "    #if image is None or image=='//googleads.g.doubleclick.net/pagead/viewthroughconversion/1071043900/?value=0&guid=ON&script=0':\n",
    "        #    continue\n",
    "        #imageurls.append(image)\n",
    "        "
   ]
  },
  {
   "cell_type": "code",
   "execution_count": 39,
   "metadata": {
    "collapsed": false
   },
   "outputs": [
    {
     "data": {
      "text/plain": [
       "('/home/affine/DeepLearningProject/JDWilliams/l16aa798502c.jpg',\n",
       " <http.client.HTTPMessage at 0x7f85de274438>)"
      ]
     },
     "execution_count": 39,
     "metadata": {},
     "output_type": "execute_result"
    }
   ],
   "source": [
    "\n",
    "urlretrieve(\"http://productimages.drct2u.com/thumb/products/aa/aa798/l16aa798502c.jpg\", \"/home/affine/DeepLearningProject/JDWilliams/l16aa798502c.jpg\")"
   ]
  },
  {
   "cell_type": "code",
   "execution_count": 15,
   "metadata": {
    "collapsed": true
   },
   "outputs": [],
   "source": []
  },
  {
   "cell_type": "code",
   "execution_count": 16,
   "metadata": {
    "collapsed": false
   },
   "outputs": [],
   "source": [
    "\n",
    "\n",
    " "
   ]
  },
  {
   "cell_type": "code",
   "execution_count": null,
   "metadata": {
    "collapsed": false
   },
   "outputs": [],
   "source": []
  },
  {
   "cell_type": "code",
   "execution_count": null,
   "metadata": {
    "collapsed": true
   },
   "outputs": [],
   "source": []
  }
 ],
 "metadata": {
  "kernelspec": {
   "display_name": "Python 3",
   "language": "python",
   "name": "python3"
  },
  "language_info": {
   "codemirror_mode": {
    "name": "ipython",
    "version": 3
   },
   "file_extension": ".py",
   "mimetype": "text/x-python",
   "name": "python",
   "nbconvert_exporter": "python",
   "pygments_lexer": "ipython3",
   "version": "3.5.3"
  }
 },
 "nbformat": 4,
 "nbformat_minor": 0
}
